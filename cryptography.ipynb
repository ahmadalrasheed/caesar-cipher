{
 "cells": [
  {
   "cell_type": "code",
   "execution_count": 984,
   "metadata": {},
   "outputs": [
    {
     "name": "stdout",
     "output_type": "stream",
     "text": [
      "9012\n"
     ]
    },
    {
     "data": {
      "text/plain": [
       "'6789'"
      ]
     },
     "execution_count": 984,
     "metadata": {},
     "output_type": "execute_result"
    }
   ],
   "source": [
    "import nltk\n",
    "from nltk.corpus import words, names\n",
    "import re\n",
    "\n",
    "nltk.download('words', quiet=True)\n",
    "nltk.download('names', quiet=True)\n",
    "\n",
    "word_list = words.words()\n",
    "name_list = names.words()\n",
    "# writing encrytp function for string of numbers\n",
    "# text =2345\n",
    "# encrypted = 4567\n",
    "def encrypt(my_str,num):\n",
    "    output=''\n",
    "    for i in my_str:\n",
    "        encrypted_value=(int(i)+num) % 10\n",
    "        output+=str(encrypted_value) \n",
    "    return output\n",
    "encrypted=encrypt('6789',3)\n",
    "print(encrypted)\n",
    "\n",
    "def decrypt(encrypted,num):\n",
    "    return encrypt(encrypted,-num)\n",
    "decrypt(encrypted,3)"
   ]
  },
  {
   "cell_type": "code",
   "execution_count": 982,
   "metadata": {},
   "outputs": [
    {
     "name": "stdout",
     "output_type": "stream",
     "text": [
      "a\n",
      "65\n",
      "122\n"
     ]
    },
    {
     "data": {
      "text/plain": [
       "218"
      ]
     },
     "execution_count": 982,
     "metadata": {},
     "output_type": "execute_result"
    }
   ],
   "source": [
    "\n",
    "# chr converts ASCI based number to character\n",
    "print(chr(97))\n",
    "# chr converts Character to ASCI based number\n",
    "print(ord('A'))\n",
    "print(ord('z'))\n",
    "chr((ord('z')+(1 % 26)))\n",
    "chr((ord('z')+(1 % 26)))\n",
    "# print(chr(123))\n",
    "ord('Ú')\n"
   ]
  },
  {
   "cell_type": "code",
   "execution_count": 983,
   "metadata": {},
   "outputs": [
    {
     "ename": "ValueError",
     "evalue": "empty separator",
     "output_type": "error",
     "traceback": [
      "\u001b[0;31m---------------------------------------------------------------------------\u001b[0m",
      "\u001b[0;31mValueError\u001b[0m                                Traceback (most recent call last)",
      "\u001b[0;32m/tmp/ipykernel_2086/1771550793.py\u001b[0m in \u001b[0;36m<module>\u001b[0;34m\u001b[0m\n\u001b[1;32m     24\u001b[0m             \u001b[0moutput\u001b[0m\u001b[0;34m+=\u001b[0m\u001b[0;34m' '\u001b[0m\u001b[0;34m\u001b[0m\u001b[0;34m\u001b[0m\u001b[0m\n\u001b[1;32m     25\u001b[0m     \u001b[0;32mreturn\u001b[0m \u001b[0moutput\u001b[0m\u001b[0;34m\u001b[0m\u001b[0;34m\u001b[0m\u001b[0m\n\u001b[0;32m---> 26\u001b[0;31m \u001b[0mencrypted_text\u001b[0m\u001b[0;34m=\u001b[0m\u001b[0mencrypt\u001b[0m\u001b[0;34m(\u001b[0m\u001b[0;34m'It was the best of times, it was the worst of times.'\u001b[0m\u001b[0;34m,\u001b[0m\u001b[0;36m1\u001b[0m\u001b[0;34m)\u001b[0m\u001b[0;34m\u001b[0m\u001b[0;34m\u001b[0m\u001b[0m\n\u001b[0m",
      "\u001b[0;32m/tmp/ipykernel_2086/1771550793.py\u001b[0m in \u001b[0;36mencrypt\u001b[0;34m(my_str, num)\u001b[0m\n\u001b[1;32m     11\u001b[0m     \"\"\"\n\u001b[1;32m     12\u001b[0m     \u001b[0moutput\u001b[0m\u001b[0;34m=\u001b[0m\u001b[0;34m''\u001b[0m\u001b[0;34m\u001b[0m\u001b[0;34m\u001b[0m\u001b[0m\n\u001b[0;32m---> 13\u001b[0;31m     \u001b[0;32mfor\u001b[0m \u001b[0mi\u001b[0m \u001b[0;32min\u001b[0m \u001b[0mmy_str\u001b[0m\u001b[0;34m.\u001b[0m\u001b[0msplit\u001b[0m\u001b[0;34m(\u001b[0m\u001b[0;34m''\u001b[0m\u001b[0;34m)\u001b[0m\u001b[0;34m:\u001b[0m\u001b[0;34m\u001b[0m\u001b[0;34m\u001b[0m\u001b[0m\n\u001b[0m\u001b[1;32m     14\u001b[0m         \u001b[0;31m# we must shift the letters with only limited number of times which is the number of letters in english\u001b[0m\u001b[0;34m\u001b[0m\u001b[0;34m\u001b[0m\u001b[0;34m\u001b[0m\u001b[0m\n\u001b[1;32m     15\u001b[0m         \u001b[0mshift_letter\u001b[0m\u001b[0;34m=\u001b[0m\u001b[0;34m(\u001b[0m\u001b[0mord\u001b[0m\u001b[0;34m(\u001b[0m\u001b[0mi\u001b[0m\u001b[0;34m)\u001b[0m \u001b[0;34m+\u001b[0m\u001b[0;34m(\u001b[0m\u001b[0mnum\u001b[0m \u001b[0;34m%\u001b[0m \u001b[0;36m26\u001b[0m\u001b[0;34m)\u001b[0m\u001b[0;34m)\u001b[0m\u001b[0;34m\u001b[0m\u001b[0;34m\u001b[0m\u001b[0m\n",
      "\u001b[0;31mValueError\u001b[0m: empty separator"
     ]
    }
   ],
   "source": [
    "# define encrytion function for string not a number\n",
    "\n",
    "def encrypt(my_str,num):\n",
    "    \"\"\"\n",
    "    This function is responsilble For encrypting a given text according to a given key number\n",
    "\n",
    "    --------------------\n",
    "    arguments:\n",
    "    my_str=>the text to be encrypted (string)\n",
    "    num=> the key number to encrypt the text with (integer)\n",
    "    \"\"\"\n",
    "    output=''\n",
    "    for i in my_str.split(''):\n",
    "        # we must shift the letters with only limited number of times which is the number of letters in english\n",
    "        shift_letter=(ord(i) +(num % 26))\n",
    "        # we have the follwoing special case a special case \n",
    "        sensitive_case=shift_letter % ord('z')\n",
    "        # the logic is that we dont want the whole result ASCI number to be less than 97 which represent 'a' letter and we dont want it to be above 122 which represents 'z' so that we are only looping in the circle of english letters\n",
    "        if sensitive_case < ord('a'):\n",
    "            output+=chr(((ord(i) % ord('z'))+96) +(num % 26))\n",
    "            output+=' '\n",
    "        else:            #122    #1\n",
    "            output+=chr(shift_letter)\n",
    "            output+=' '\n",
    "    return output\n",
    "encrypted_text=encrypt('It was the best of times, it was the worst of times.',1)"
   ]
  },
  {
   "cell_type": "code",
   "execution_count": null,
   "metadata": {},
   "outputs": [
    {
     "name": "stdout",
     "output_type": "stream",
     "text": [
      "juxbtuifcftupgujnftjuxbtuifxpstupgujnft\n",
      "Original text : itwasthebestoftimesitwastheworstoftimes\n"
     ]
    }
   ],
   "source": [
    "print(encrypted_text)\n",
    "def decrypt(encrypted_text,key):\n",
    "    \"\"\"\n",
    "    This function is responsilble For decrypting a given text according to a given key number\n",
    "\n",
    "    --------------------\n",
    "    arguments:\n",
    "    my_str=> encrypted text (string)\n",
    "    num=> the key number to decrypt the text with (integer)\n",
    "    \"\"\"\n",
    "    output=''\n",
    "    for i in encrypted_text:\n",
    "        # we must shift the letters with only limited number of times which is the number of letters in english\n",
    "        un_shift_letter=(ord(i.lower()) -(key % 26))\n",
    "        # the logic is that we dont want the whole result ASCI number to be less than 97 which represent 'a' letter and we dont want it to be above 122 which represents 'z' so that we are only looping in the circle of english letters\n",
    "        if un_shift_letter < ord('a'):\n",
    "            output+=chr(((ord(i.lower()) )+26) -(key % 26))\n",
    "        else:            #122    #1\n",
    "            output+=chr(un_shift_letter)\n",
    "    return output\n",
    "print('Original text :',decrypt(encrypted_text,1))\n"
   ]
  },
  {
   "cell_type": "code",
   "execution_count": null,
   "metadata": {},
   "outputs": [
    {
     "ename": "TypeError",
     "evalue": "count_words() missing 1 required positional argument: 'plain_text_phrase'",
     "output_type": "error",
     "traceback": [
      "\u001b[0;31m---------------------------------------------------------------------------\u001b[0m",
      "\u001b[0;31mTypeError\u001b[0m                                 Traceback (most recent call last)",
      "\u001b[0;32m/tmp/ipykernel_2086/2135439722.py\u001b[0m in \u001b[0;36m<module>\u001b[0;34m\u001b[0m\n\u001b[1;32m     13\u001b[0m             \u001b[0mword_count\u001b[0m \u001b[0;34m+=\u001b[0m \u001b[0;36m1\u001b[0m\u001b[0;34m\u001b[0m\u001b[0;34m\u001b[0m\u001b[0m\n\u001b[1;32m     14\u001b[0m     \u001b[0;32mreturn\u001b[0m \u001b[0mword_count\u001b[0m\u001b[0;34m\u001b[0m\u001b[0;34m\u001b[0m\u001b[0m\n\u001b[0;32m---> 15\u001b[0;31m \u001b[0mprint\u001b[0m\u001b[0;34m(\u001b[0m\u001b[0mcount_words\u001b[0m\u001b[0;34m(\u001b[0m\u001b[0;34m)\u001b[0m\u001b[0;34m)\u001b[0m\u001b[0;34m\u001b[0m\u001b[0;34m\u001b[0m\u001b[0m\n\u001b[0m",
      "\u001b[0;31mTypeError\u001b[0m: count_words() missing 1 required positional argument: 'plain_text_phrase'"
     ]
    }
   ],
   "source": [
    "def count_words(plain_text_phrase):\n",
    "    \"\"\"\n",
    "    Counts the amount of english words in a string\n",
    "    \"\"\"\n",
    "    # split the string into an array\n",
    "    words = plain_text_phrase.split()\n",
    "    word_count = 0\n",
    "    for i in words:\n",
    "        clean_word = re.sub(r'[^A-Za-z]', ' ', i)\n",
    "        # check if each word is found in either the word list or name\n",
    "        if clean_word.lower() in word_list or clean_word in name_list:\n",
    "          # increment word count\n",
    "            word_count += 1\n",
    "    return word_count"
   ]
  },
  {
   "cell_type": "code",
   "execution_count": null,
   "metadata": {},
   "outputs": [
    {
     "name": "stdout",
     "output_type": "stream",
     "text": [
      "\n"
     ]
    }
   ],
   "source": [
    "\n",
    "\n",
    "def crack(encrypted_text):\n",
    "    \"\"\"\n",
    "    decode the cipher so that an encrypted message can be transformed into its original state WITHOUT access to the key.\n",
    "    \"\"\"\n",
    "    # generate for numbers with the same length of the encrypted text.\n",
    "    text = ''\n",
    "    for i in range(26):\n",
    "        total_words = decrypt(encrypted_text, i)\n",
    "        word_count = count_words(total_words)\n",
    "        ratio = word_count / len(total_words.split())\n",
    "        percentage = int(ratio * 100)\n",
    "        if percentage > 50:\n",
    "            text += total_words\n",
    "    return text\n",
    "    \n",
    "    \n",
    "print(crack(encrypted_text))"
   ]
  }
 ],
 "metadata": {
  "interpreter": {
   "hash": "1c4003851f63fe81018d8786921f16eec72ea1d3716a56e95aff077144735485"
  },
  "kernelspec": {
   "display_name": "Python 3.9.5 64-bit ('.venv': poetry)",
   "name": "python3"
  },
  "language_info": {
   "codemirror_mode": {
    "name": "ipython",
    "version": 3
   },
   "file_extension": ".py",
   "mimetype": "text/x-python",
   "name": "python",
   "nbconvert_exporter": "python",
   "pygments_lexer": "ipython3",
   "version": "3.9.5"
  },
  "orig_nbformat": 4
 },
 "nbformat": 4,
 "nbformat_minor": 2
}
